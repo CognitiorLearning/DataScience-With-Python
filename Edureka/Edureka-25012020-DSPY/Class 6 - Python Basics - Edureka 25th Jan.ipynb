{
 "cells": [
  {
   "cell_type": "markdown",
   "metadata": {},
   "source": [
    "# Missing Value Treatment"
   ]
  },
  {
   "cell_type": "code",
   "execution_count": 1,
   "metadata": {},
   "outputs": [],
   "source": [
    "import os\n",
    "os.chdir(r'D:\\D\\Cognitior\\Courses\\Dataset\\Python DataScience')\n",
    "import pandas as pd\n",
    "import numpy as np\n",
    "import seaborn as sns"
   ]
  },
  {
   "cell_type": "code",
   "execution_count": 2,
   "metadata": {},
   "outputs": [],
   "source": [
    "dataset = pd.read_excel('Employee_Data.xls')"
   ]
  },
  {
   "cell_type": "code",
   "execution_count": 4,
   "metadata": {},
   "outputs": [
    {
     "data": {
      "text/plain": [
       "Employee Id     0\n",
       "First Name      0\n",
       "Last Name       0\n",
       "Department     19\n",
       "Age            18\n",
       "Experience     10\n",
       "Salary          0\n",
       "dtype: int64"
      ]
     },
     "execution_count": 4,
     "metadata": {},
     "output_type": "execute_result"
    }
   ],
   "source": [
    "dataset.isnull().sum()"
   ]
  },
  {
   "cell_type": "code",
   "execution_count": 5,
   "metadata": {},
   "outputs": [
    {
     "data": {
      "text/plain": [
       "<matplotlib.axes._subplots.AxesSubplot at 0x20754574cc8>"
      ]
     },
     "execution_count": 5,
     "metadata": {},
     "output_type": "execute_result"
    },
    {
     "data": {
      "image/png": "[encoded data removed]",
      "text/plain": [
       "<Figure size 432x288 with 1 Axes>"
      ]
     },
     "metadata": {
      "needs_background": "light"
     },
     "output_type": "display_data"
    }
   ],
   "source": [
    "sns.boxplot(y='Age',data=dataset)"
   ]
  },
  {
   "cell_type": "code",
   "execution_count": 6,
   "metadata": {},
   "outputs": [
    {
     "data": {
      "text/plain": [
       "<matplotlib.axes._subplots.AxesSubplot at 0x207545e7208>"
      ]
     },
     "execution_count": 6,
     "metadata": {},
     "output_type": "execute_result"
    },
    {
     "data": {
      "image/png": "[encoded data removed]",
      "text/plain": [
       "<Figure size 432x288 with 1 Axes>"
      ]
     },
     "metadata": {
      "needs_background": "light"
     },
     "output_type": "display_data"
    }
   ],
   "source": [
    "sns.boxplot(y='Experience', data=dataset)"
   ]
  },
  {
   "cell_type": "code",
   "execution_count": 22,
   "metadata": {},
   "outputs": [],
   "source": [
    "x=dataset.iloc[:,3:6].values"
   ]
  },
  {
   "cell_type": "code",
   "execution_count": 23,
   "metadata": {},
   "outputs": [
    {
     "data": {
      "text/plain": [
       "array([['Sales and Marketing', 28.0, 3.0],\n",
       "       ['Sales and Marketing', 22.0, 1.0],\n",
       "       ['Customer Relations', 22.0, 1.0],\n",
       "       ['Customer Relations', 22.0, 1.0],\n",
       "       ['Accounting', 27.0, 0.0],\n",
       "       ['Accounting', 26.0, 5.0],\n",
       "       ['Customer Relations', 24.0, 6.0],\n",
       "       ['Customer Relations', 29.0, 2.0],\n",
       "       ['Sales and Marketing', 29.0, 5.0],\n",
       "       ['Customer Relations', 30.0, 6.0],\n",
       "       ['Accounting', 26.0, 5.0],\n",
       "       ['Sales and Marketing', 26.0, 6.0],\n",
       "       ['Accounting', 24.0, 5.0],\n",
       "       ['Accounting', 22.0, 2.0],\n",
       "       ['Sales and Marketing', 25.0, 3.0],\n",
       "       ['Accounting', 25.0, nan],\n",
       "       ['Customer Relations', 22.0, nan],\n",
       "       ['Accounting', 25.0, nan],\n",
       "       ['Accounting', 27.0, nan],\n",
       "       [nan, 25.0, nan],\n",
       "       [nan, 22.0, nan],\n",
       "       [nan, 22.0, nan],\n",
       "       [nan, 24.0, nan],\n",
       "       [nan, 27.0, nan],\n",
       "       [nan, 22.0, nan],\n",
       "       [nan, 33.0, 13.0],\n",
       "       [nan, 36.0, 7.0],\n",
       "       [nan, 35.0, 10.0],\n",
       "       [nan, 33.0, 12.0],\n",
       "       [nan, 30.0, 14.0],\n",
       "       [nan, 40.0, 15.0],\n",
       "       [nan, 39.0, 12.0],\n",
       "       [nan, nan, 9.0],\n",
       "       [nan, nan, 7.0],\n",
       "       [nan, nan, 15.0],\n",
       "       [nan, nan, 11.0],\n",
       "       [nan, nan, 10.0],\n",
       "       [nan, nan, 7.0],\n",
       "       ['Sales and Marketing', nan, 13.0],\n",
       "       ['Sales and Marketing', nan, 9.0],\n",
       "       ['Customer Relations', nan, 8.0],\n",
       "       ['Accounting', nan, 12.0],\n",
       "       ['Accounting', nan, 9.0],\n",
       "       ['Sales and Marketing', nan, 12.0],\n",
       "       ['Sales and Marketing', nan, 15.0],\n",
       "       ['Customer Relations', nan, 14.0],\n",
       "       ['Sales and Marketing', nan, 10.0],\n",
       "       ['Customer Relations', nan, 8.0],\n",
       "       ['Customer Relations', nan, 12.0],\n",
       "       ['Customer Relations', nan, 15.0],\n",
       "       ['Sales and Marketing', 38.0, 14.0],\n",
       "       ['Accounting', 41.0, 25.0],\n",
       "       ['Customer Relations', 44.0, 17.0],\n",
       "       ['Accounting', 41.0, 17.0],\n",
       "       ['Sales and Marketing', 50.0, 21.0],\n",
       "       ['Sales and Marketing', 47.0, 19.0],\n",
       "       ['Accounting', 43.0, 25.0],\n",
       "       ['Customer Relations', 48.0, 25.0],\n",
       "       ['Accounting', 46.0, 22.0],\n",
       "       ['Customer Relations', 44.0, 16.0],\n",
       "       ['Accounting', 42.0, 21.0],\n",
       "       ['Sales and Marketing', 44.0, 19.0],\n",
       "       ['Customer Relations', 49.0, 16.0],\n",
       "       ['Customer Relations', 44.0, 18.0],\n",
       "       ['Sales and Marketing', 49.0, 22.0],\n",
       "       ['Accounting', 44.0, 17.0],\n",
       "       ['Sales and Marketing', 48.0, 16.0],\n",
       "       ['Customer Relations', 47.0, 23.0],\n",
       "       ['Customer Relations', 50.0, 22.0],\n",
       "       ['Sales and Marketing', 42.0, 19.0],\n",
       "       ['Accounting', 48.0, 19.0],\n",
       "       ['Customer Relations', 46.0, 24.0],\n",
       "       ['Sales and Marketing', 42.0, 23.0],\n",
       "       ['Sales and Marketing', 45.0, 22.0],\n",
       "       ['Customer Relations', 48.0, 17.0],\n",
       "       ['Sales and Marketing', 41.0, 23.0],\n",
       "       ['Sales and Marketing', 49.0, 19.0],\n",
       "       ['Sales and Marketing', 41.0, 22.0],\n",
       "       ['Sales and Marketing', 42.0, 24.0],\n",
       "       ['Accounting', 41.0, 22.0],\n",
       "       ['Accounting', 45.0, 21.0],\n",
       "       ['Customer Relations', 43.0, 16.0],\n",
       "       ['Accounting', 46.0, 18.0],\n",
       "       ['Sales and Marketing', 47.0, 20.0],\n",
       "       ['Accounting', 45.0, 17.0],\n",
       "       ['Sales and Marketing', 42.0, 17.0],\n",
       "       ['Sales and Marketing', 44.0, 21.0],\n",
       "       ['Accounting', 45.0, 19.0],\n",
       "       ['Accounting', 44.0, 21.0],\n",
       "       ['Customer Relations', 47.0, 20.0],\n",
       "       ['Sales and Marketing', 44.0, 19.0],\n",
       "       ['Accounting', 44.0, 18.0],\n",
       "       ['Sales and Marketing', 41.0, 17.0],\n",
       "       ['Accounting', 48.0, 21.0],\n",
       "       ['Accounting', 48.0, 22.0],\n",
       "       ['Sales and Marketing', 47.0, 22.0],\n",
       "       ['Sales and Marketing', 46.0, 20.0],\n",
       "       ['Customer Relations', 44.0, 18.0],\n",
       "       ['Customer Relations', 47.0, 22.0],\n",
       "       ['Accounting', 44.0, 21.0]], dtype=object)"
      ]
     },
     "execution_count": 23,
     "metadata": {},
     "output_type": "execute_result"
    }
   ],
   "source": [
    "x"
   ]
  },
  {
   "cell_type": "code",
   "execution_count": 29,
   "metadata": {},
   "outputs": [],
   "source": [
    "from sklearn.impute import SimpleImputer\n",
    "imp =SimpleImputer( strategy = 'most_frequent')\n",
    "x[:,0:1] = imp.fit_transform(x[:,0:1])"
   ]
  },
  {
   "cell_type": "code",
   "execution_count": 33,
   "metadata": {},
   "outputs": [
    {
     "data": {
      "text/plain": [
       "array([['Sales and Marketing', 28.0, 3.0],\n",
       "       ['Sales and Marketing', 22.0, 1.0],\n",
       "       ['Customer Relations', 22.0, 1.0],\n",
       "       ['Customer Relations', 22.0, 1.0],\n",
       "       ['Accounting', 27.0, 0.0],\n",
       "       ['Accounting', 26.0, 5.0],\n",
       "       ['Customer Relations', 24.0, 6.0],\n",
       "       ['Customer Relations', 29.0, 2.0],\n",
       "       ['Sales and Marketing', 29.0, 5.0],\n",
       "       ['Customer Relations', 30.0, 6.0],\n",
       "       ['Accounting', 26.0, 5.0],\n",
       "       ['Sales and Marketing', 26.0, 6.0],\n",
       "       ['Accounting', 24.0, 5.0],\n",
       "       ['Accounting', 22.0, 2.0],\n",
       "       ['Sales and Marketing', 25.0, 3.0],\n",
       "       ['Accounting', 25.0, nan],\n",
       "       ['Customer Relations', 22.0, nan],\n",
       "       ['Accounting', 25.0, nan],\n",
       "       ['Accounting', 27.0, nan],\n",
       "       ['Sales and Marketing', 25.0, nan],\n",
       "       ['Sales and Marketing', 22.0, nan],\n",
       "       ['Sales and Marketing', 22.0, nan],\n",
       "       ['Sales and Marketing', 24.0, nan],\n",
       "       ['Sales and Marketing', 27.0, nan],\n",
       "       ['Sales and Marketing', 22.0, nan],\n",
       "       ['Sales and Marketing', 33.0, 13.0],\n",
       "       ['Sales and Marketing', 36.0, 7.0],\n",
       "       ['Sales and Marketing', 35.0, 10.0],\n",
       "       ['Sales and Marketing', 33.0, 12.0],\n",
       "       ['Sales and Marketing', 30.0, 14.0],\n",
       "       ['Sales and Marketing', 40.0, 15.0],\n",
       "       ['Sales and Marketing', 39.0, 12.0],\n",
       "       ['Sales and Marketing', nan, 9.0],\n",
       "       ['Sales and Marketing', nan, 7.0],\n",
       "       ['Sales and Marketing', nan, 15.0],\n",
       "       ['Sales and Marketing', nan, 11.0],\n",
       "       ['Sales and Marketing', nan, 10.0],\n",
       "       ['Sales and Marketing', nan, 7.0],\n",
       "       ['Sales and Marketing', nan, 13.0],\n",
       "       ['Sales and Marketing', nan, 9.0],\n",
       "       ['Customer Relations', nan, 8.0],\n",
       "       ['Accounting', nan, 12.0],\n",
       "       ['Accounting', nan, 9.0],\n",
       "       ['Sales and Marketing', nan, 12.0],\n",
       "       ['Sales and Marketing', nan, 15.0],\n",
       "       ['Customer Relations', nan, 14.0],\n",
       "       ['Sales and Marketing', nan, 10.0],\n",
       "       ['Customer Relations', nan, 8.0],\n",
       "       ['Customer Relations', nan, 12.0],\n",
       "       ['Customer Relations', nan, 15.0],\n",
       "       ['Sales and Marketing', 38.0, 14.0],\n",
       "       ['Accounting', 41.0, 25.0],\n",
       "       ['Customer Relations', 44.0, 17.0],\n",
       "       ['Accounting', 41.0, 17.0],\n",
       "       ['Sales and Marketing', 50.0, 21.0],\n",
       "       ['Sales and Marketing', 47.0, 19.0],\n",
       "       ['Accounting', 43.0, 25.0],\n",
       "       ['Customer Relations', 48.0, 25.0],\n",
       "       ['Accounting', 46.0, 22.0],\n",
       "       ['Customer Relations', 44.0, 16.0],\n",
       "       ['Accounting', 42.0, 21.0],\n",
       "       ['Sales and Marketing', 44.0, 19.0],\n",
       "       ['Customer Relations', 49.0, 16.0],\n",
       "       ['Customer Relations', 44.0, 18.0],\n",
       "       ['Sales and Marketing', 49.0, 22.0],\n",
       "       ['Accounting', 44.0, 17.0],\n",
       "       ['Sales and Marketing', 48.0, 16.0],\n",
       "       ['Customer Relations', 47.0, 23.0],\n",
       "       ['Customer Relations', 50.0, 22.0],\n",
       "       ['Sales and Marketing', 42.0, 19.0],\n",
       "       ['Accounting', 48.0, 19.0],\n",
       "       ['Customer Relations', 46.0, 24.0],\n",
       "       ['Sales and Marketing', 42.0, 23.0],\n",
       "       ['Sales and Marketing', 45.0, 22.0],\n",
       "       ['Customer Relations', 48.0, 17.0],\n",
       "       ['Sales and Marketing', 41.0, 23.0],\n",
       "       ['Sales and Marketing', 49.0, 19.0],\n",
       "       ['Sales and Marketing', 41.0, 22.0],\n",
       "       ['Sales and Marketing', 42.0, 24.0],\n",
       "       ['Accounting', 41.0, 22.0],\n",
       "       ['Accounting', 45.0, 21.0],\n",
       "       ['Customer Relations', 43.0, 16.0],\n",
       "       ['Accounting', 46.0, 18.0],\n",
       "       ['Sales and Marketing', 47.0, 20.0],\n",
       "       ['Accounting', 45.0, 17.0],\n",
       "       ['Sales and Marketing', 42.0, 17.0],\n",
       "       ['Sales and Marketing', 44.0, 21.0],\n",
       "       ['Accounting', 45.0, 19.0],\n",
       "       ['Accounting', 44.0, 21.0],\n",
       "       ['Customer Relations', 47.0, 20.0],\n",
       "       ['Sales and Marketing', 44.0, 19.0],\n",
       "       ['Accounting', 44.0, 18.0],\n",
       "       ['Sales and Marketing', 41.0, 17.0],\n",
       "       ['Accounting', 48.0, 21.0],\n",
       "       ['Accounting', 48.0, 22.0],\n",
       "       ['Sales and Marketing', 47.0, 22.0],\n",
       "       ['Sales and Marketing', 46.0, 20.0],\n",
       "       ['Customer Relations', 44.0, 18.0],\n",
       "       ['Customer Relations', 47.0, 22.0],\n",
       "       ['Accounting', 44.0, 21.0]], dtype=object)"
      ]
     },
     "execution_count": 33,
     "metadata": {},
     "output_type": "execute_result"
    }
   ],
   "source": [
    "x"
   ]
  },
  {
   "cell_type": "code",
   "execution_count": 34,
   "metadata": {},
   "outputs": [],
   "source": [
    "from sklearn.impute import SimpleImputer\n",
    "imp =SimpleImputer( strategy = 'mean')\n",
    "x[:,1:3] = imp.fit_transform(x[:,1:3])"
   ]
  },
  {
   "cell_type": "code",
   "execution_count": 39,
   "metadata": {},
   "outputs": [
    {
     "data": {
      "text/plain": [
       "array([['Sales and Marketing', 28.0, 3.0],\n",
       "       ['Sales and Marketing', 22.0, 1.0],\n",
       "       ['Customer Relations', 22.0, 1.0],\n",
       "       ['Customer Relations', 22.0, 1.0],\n",
       "       ['Accounting', 27.0, 0.0],\n",
       "       ['Accounting', 26.0, 5.0],\n",
       "       ['Customer Relations', 24.0, 6.0],\n",
       "       ['Customer Relations', 29.0, 2.0],\n",
       "       ['Sales and Marketing', 29.0, 5.0],\n",
       "       ['Customer Relations', 30.0, 6.0],\n",
       "       ['Accounting', 26.0, 5.0],\n",
       "       ['Sales and Marketing', 26.0, 6.0],\n",
       "       ['Accounting', 24.0, 5.0],\n",
       "       ['Accounting', 22.0, 2.0],\n",
       "       ['Sales and Marketing', 25.0, 3.0],\n",
       "       ['Accounting', 25.0, 14.766666666666667],\n",
       "       ['Customer Relations', 22.0, 14.766666666666667],\n",
       "       ['Accounting', 25.0, 14.766666666666667],\n",
       "       ['Accounting', 27.0, 14.766666666666667],\n",
       "       ['Sales and Marketing', 25.0, 14.766666666666667],\n",
       "       ['Sales and Marketing', 22.0, 14.766666666666667],\n",
       "       ['Sales and Marketing', 22.0, 14.766666666666667],\n",
       "       ['Sales and Marketing', 24.0, 14.766666666666667],\n",
       "       ['Sales and Marketing', 27.0, 14.766666666666667],\n",
       "       ['Sales and Marketing', 22.0, 14.766666666666667],\n",
       "       ['Sales and Marketing', 33.0, 13.0],\n",
       "       ['Sales and Marketing', 36.0, 7.0],\n",
       "       ['Sales and Marketing', 35.0, 10.0],\n",
       "       ['Sales and Marketing', 33.0, 12.0],\n",
       "       ['Sales and Marketing', 30.0, 14.0],\n",
       "       ['Sales and Marketing', 40.0, 15.0],\n",
       "       ['Sales and Marketing', 39.0, 12.0],\n",
       "       ['Sales and Marketing', 37.97560975609756, 9.0],\n",
       "       ['Sales and Marketing', 37.97560975609756, 7.0],\n",
       "       ['Sales and Marketing', 37.97560975609756, 15.0],\n",
       "       ['Sales and Marketing', 37.97560975609756, 11.0],\n",
       "       ['Sales and Marketing', 37.97560975609756, 10.0],\n",
       "       ['Sales and Marketing', 37.97560975609756, 7.0],\n",
       "       ['Sales and Marketing', 37.97560975609756, 13.0],\n",
       "       ['Sales and Marketing', 37.97560975609756, 9.0],\n",
       "       ['Customer Relations', 37.97560975609756, 8.0],\n",
       "       ['Accounting', 37.97560975609756, 12.0],\n",
       "       ['Accounting', 37.97560975609756, 9.0],\n",
       "       ['Sales and Marketing', 37.97560975609756, 12.0],\n",
       "       ['Sales and Marketing', 37.97560975609756, 15.0],\n",
       "       ['Customer Relations', 37.97560975609756, 14.0],\n",
       "       ['Sales and Marketing', 37.97560975609756, 10.0],\n",
       "       ['Customer Relations', 37.97560975609756, 8.0],\n",
       "       ['Customer Relations', 37.97560975609756, 12.0],\n",
       "       ['Customer Relations', 37.97560975609756, 15.0],\n",
       "       ['Sales and Marketing', 38.0, 14.0],\n",
       "       ['Accounting', 41.0, 25.0],\n",
       "       ['Customer Relations', 44.0, 17.0],\n",
       "       ['Accounting', 41.0, 17.0],\n",
       "       ['Sales and Marketing', 50.0, 21.0],\n",
       "       ['Sales and Marketing', 47.0, 19.0],\n",
       "       ['Accounting', 43.0, 25.0],\n",
       "       ['Customer Relations', 48.0, 25.0],\n",
       "       ['Accounting', 46.0, 22.0],\n",
       "       ['Customer Relations', 44.0, 16.0],\n",
       "       ['Accounting', 42.0, 21.0],\n",
       "       ['Sales and Marketing', 44.0, 19.0],\n",
       "       ['Customer Relations', 49.0, 16.0],\n",
       "       ['Customer Relations', 44.0, 18.0],\n",
       "       ['Sales and Marketing', 49.0, 22.0],\n",
       "       ['Accounting', 44.0, 17.0],\n",
       "       ['Sales and Marketing', 48.0, 16.0],\n",
       "       ['Customer Relations', 47.0, 23.0],\n",
       "       ['Customer Relations', 50.0, 22.0],\n",
       "       ['Sales and Marketing', 42.0, 19.0],\n",
       "       ['Accounting', 48.0, 19.0],\n",
       "       ['Customer Relations', 46.0, 24.0],\n",
       "       ['Sales and Marketing', 42.0, 23.0],\n",
       "       ['Sales and Marketing', 45.0, 22.0],\n",
       "       ['Customer Relations', 48.0, 17.0],\n",
       "       ['Sales and Marketing', 41.0, 23.0],\n",
       "       ['Sales and Marketing', 49.0, 19.0],\n",
       "       ['Sales and Marketing', 41.0, 22.0],\n",
       "       ['Sales and Marketing', 42.0, 24.0],\n",
       "       ['Accounting', 41.0, 22.0],\n",
       "       ['Accounting', 45.0, 21.0],\n",
       "       ['Customer Relations', 43.0, 16.0],\n",
       "       ['Accounting', 46.0, 18.0],\n",
       "       ['Sales and Marketing', 47.0, 20.0],\n",
       "       ['Accounting', 45.0, 17.0],\n",
       "       ['Sales and Marketing', 42.0, 17.0],\n",
       "       ['Sales and Marketing', 44.0, 21.0],\n",
       "       ['Accounting', 45.0, 19.0],\n",
       "       ['Accounting', 44.0, 21.0],\n",
       "       ['Customer Relations', 47.0, 20.0],\n",
       "       ['Sales and Marketing', 44.0, 19.0],\n",
       "       ['Accounting', 44.0, 18.0],\n",
       "       ['Sales and Marketing', 41.0, 17.0],\n",
       "       ['Accounting', 48.0, 21.0],\n",
       "       ['Accounting', 48.0, 22.0],\n",
       "       ['Sales and Marketing', 47.0, 22.0],\n",
       "       ['Sales and Marketing', 46.0, 20.0],\n",
       "       ['Customer Relations', 44.0, 18.0],\n",
       "       ['Customer Relations', 47.0, 22.0],\n",
       "       ['Accounting', 44.0, 21.0]], dtype=object)"
      ]
     },
     "execution_count": 39,
     "metadata": {},
     "output_type": "execute_result"
    }
   ],
   "source": [
    "x"
   ]
  },
  {
   "cell_type": "code",
   "execution_count": 51,
   "metadata": {},
   "outputs": [
    {
     "data": {
      "text/html": [
       "<div>\n",
       "<style scoped>\n",
       "    .dataframe tbody tr th:only-of-type {\n",
       "        vertical-align: middle;\n",
       "    }\n",
       "\n",
       "    .dataframe tbody tr th {\n",
       "        vertical-align: top;\n",
       "    }\n",
       "\n",
       "    .dataframe thead th {\n",
       "        text-align: right;\n",
       "    }\n",
       "</style>\n",
       "<table border=\"1\" class=\"dataframe\">\n",
       "  <thead>\n",
       "    <tr style=\"text-align: right;\">\n",
       "      <th></th>\n",
       "      <th>0</th>\n",
       "      <th>1</th>\n",
       "      <th>2</th>\n",
       "    </tr>\n",
       "  </thead>\n",
       "  <tbody>\n",
       "    <tr>\n",
       "      <td>0</td>\n",
       "      <td>Sales and Marketing</td>\n",
       "      <td>28</td>\n",
       "      <td>3</td>\n",
       "    </tr>\n",
       "    <tr>\n",
       "      <td>1</td>\n",
       "      <td>Sales and Marketing</td>\n",
       "      <td>22</td>\n",
       "      <td>1</td>\n",
       "    </tr>\n",
       "    <tr>\n",
       "      <td>2</td>\n",
       "      <td>Customer Relations</td>\n",
       "      <td>22</td>\n",
       "      <td>1</td>\n",
       "    </tr>\n",
       "    <tr>\n",
       "      <td>3</td>\n",
       "      <td>Customer Relations</td>\n",
       "      <td>22</td>\n",
       "      <td>1</td>\n",
       "    </tr>\n",
       "    <tr>\n",
       "      <td>4</td>\n",
       "      <td>Accounting</td>\n",
       "      <td>27</td>\n",
       "      <td>0</td>\n",
       "    </tr>\n",
       "    <tr>\n",
       "      <td>...</td>\n",
       "      <td>...</td>\n",
       "      <td>...</td>\n",
       "      <td>...</td>\n",
       "    </tr>\n",
       "    <tr>\n",
       "      <td>95</td>\n",
       "      <td>Sales and Marketing</td>\n",
       "      <td>47</td>\n",
       "      <td>22</td>\n",
       "    </tr>\n",
       "    <tr>\n",
       "      <td>96</td>\n",
       "      <td>Sales and Marketing</td>\n",
       "      <td>46</td>\n",
       "      <td>20</td>\n",
       "    </tr>\n",
       "    <tr>\n",
       "      <td>97</td>\n",
       "      <td>Customer Relations</td>\n",
       "      <td>44</td>\n",
       "      <td>18</td>\n",
       "    </tr>\n",
       "    <tr>\n",
       "      <td>98</td>\n",
       "      <td>Customer Relations</td>\n",
       "      <td>47</td>\n",
       "      <td>22</td>\n",
       "    </tr>\n",
       "    <tr>\n",
       "      <td>99</td>\n",
       "      <td>Accounting</td>\n",
       "      <td>44</td>\n",
       "      <td>21</td>\n",
       "    </tr>\n",
       "  </tbody>\n",
       "</table>\n",
       "<p>100 rows × 3 columns</p>\n",
       "</div>"
      ],
      "text/plain": [
       "                      0   1   2\n",
       "0   Sales and Marketing  28   3\n",
       "1   Sales and Marketing  22   1\n",
       "2    Customer Relations  22   1\n",
       "3    Customer Relations  22   1\n",
       "4            Accounting  27   0\n",
       "..                  ...  ..  ..\n",
       "95  Sales and Marketing  47  22\n",
       "96  Sales and Marketing  46  20\n",
       "97   Customer Relations  44  18\n",
       "98   Customer Relations  47  22\n",
       "99           Accounting  44  21\n",
       "\n",
       "[100 rows x 3 columns]"
      ]
     },
     "execution_count": 51,
     "metadata": {},
     "output_type": "execute_result"
    }
   ],
   "source": [
    "pd.DataFrame(x)"
   ]
  },
  {
   "cell_type": "code",
   "execution_count": 49,
   "metadata": {},
   "outputs": [
    {
     "data": {
      "text/plain": [
       "Employee Id    0\n",
       "First Name     0\n",
       "Last Name      0\n",
       "Department     0\n",
       "Age            0\n",
       "Experience     0\n",
       "Salary         0\n",
       "dtype: int64"
      ]
     },
     "execution_count": 49,
     "metadata": {},
     "output_type": "execute_result"
    }
   ],
   "source": [
    "dataset.isnull().sum()"
   ]
  },
  {
   "cell_type": "code",
   "execution_count": 42,
   "metadata": {},
   "outputs": [],
   "source": [
    "dataset['Age'] = dataset['Age'].fillna(dataset['Age'].mean())"
   ]
  },
  {
   "cell_type": "code",
   "execution_count": 44,
   "metadata": {},
   "outputs": [],
   "source": [
    "dataset['Experience'] = dataset['Experience'].fillna(dataset['Experience'].median())"
   ]
  },
  {
   "cell_type": "code",
   "execution_count": 48,
   "metadata": {},
   "outputs": [
    {
     "data": {
      "text/plain": [
       "Department\n",
       "Accounting             27\n",
       "Customer Relations     24\n",
       "Sales and Marketing    49\n",
       "dtype: int64"
      ]
     },
     "execution_count": 48,
     "metadata": {},
     "output_type": "execute_result"
    }
   ],
   "source": [
    "dataset.groupby('Department').size()"
   ]
  },
  {
   "cell_type": "code",
   "execution_count": 47,
   "metadata": {},
   "outputs": [],
   "source": [
    "dataset['Department'] = dataset['Department'].fillna('Sales and Marketing')"
   ]
  },
  {
   "cell_type": "markdown",
   "metadata": {},
   "source": [
    "# Outlier Treatment"
   ]
  },
  {
   "cell_type": "code",
   "execution_count": 52,
   "metadata": {},
   "outputs": [],
   "source": [
    "os.chdir(r'D:\\D\\Cognitior\\Courses\\Data Science - Course - Reusable component\\Outlier Treatment')"
   ]
  },
  {
   "cell_type": "code",
   "execution_count": 54,
   "metadata": {},
   "outputs": [],
   "source": [
    "dataset_ot = pd.read_excel('OutlierData.xlsx')"
   ]
  },
  {
   "cell_type": "code",
   "execution_count": 55,
   "metadata": {},
   "outputs": [
    {
     "data": {
      "text/html": [
       "<div>\n",
       "<style scoped>\n",
       "    .dataframe tbody tr th:only-of-type {\n",
       "        vertical-align: middle;\n",
       "    }\n",
       "\n",
       "    .dataframe tbody tr th {\n",
       "        vertical-align: top;\n",
       "    }\n",
       "\n",
       "    .dataframe thead th {\n",
       "        text-align: right;\n",
       "    }\n",
       "</style>\n",
       "<table border=\"1\" class=\"dataframe\">\n",
       "  <thead>\n",
       "    <tr style=\"text-align: right;\">\n",
       "      <th></th>\n",
       "      <th>Department</th>\n",
       "      <th>Age</th>\n",
       "      <th>Experience</th>\n",
       "    </tr>\n",
       "  </thead>\n",
       "  <tbody>\n",
       "    <tr>\n",
       "      <td>0</td>\n",
       "      <td>HR</td>\n",
       "      <td>21</td>\n",
       "      <td>1</td>\n",
       "    </tr>\n",
       "    <tr>\n",
       "      <td>1</td>\n",
       "      <td>HR</td>\n",
       "      <td>33</td>\n",
       "      <td>12</td>\n",
       "    </tr>\n",
       "    <tr>\n",
       "      <td>2</td>\n",
       "      <td>IT</td>\n",
       "      <td>35</td>\n",
       "      <td>12</td>\n",
       "    </tr>\n",
       "    <tr>\n",
       "      <td>3</td>\n",
       "      <td>IT</td>\n",
       "      <td>36</td>\n",
       "      <td>12</td>\n",
       "    </tr>\n",
       "    <tr>\n",
       "      <td>4</td>\n",
       "      <td>HR</td>\n",
       "      <td>34</td>\n",
       "      <td>11</td>\n",
       "    </tr>\n",
       "    <tr>\n",
       "      <td>5</td>\n",
       "      <td>IT</td>\n",
       "      <td>33</td>\n",
       "      <td>13</td>\n",
       "    </tr>\n",
       "    <tr>\n",
       "      <td>6</td>\n",
       "      <td>Marketing</td>\n",
       "      <td>34</td>\n",
       "      <td>12</td>\n",
       "    </tr>\n",
       "    <tr>\n",
       "      <td>7</td>\n",
       "      <td>HR</td>\n",
       "      <td>32</td>\n",
       "      <td>10</td>\n",
       "    </tr>\n",
       "    <tr>\n",
       "      <td>8</td>\n",
       "      <td>Marketing</td>\n",
       "      <td>31</td>\n",
       "      <td>2</td>\n",
       "    </tr>\n",
       "    <tr>\n",
       "      <td>9</td>\n",
       "      <td>IT</td>\n",
       "      <td>55</td>\n",
       "      <td>35</td>\n",
       "    </tr>\n",
       "  </tbody>\n",
       "</table>\n",
       "</div>"
      ],
      "text/plain": [
       "  Department  Age  Experience\n",
       "0         HR   21           1\n",
       "1         HR   33          12\n",
       "2         IT   35          12\n",
       "3         IT   36          12\n",
       "4         HR   34          11\n",
       "5         IT   33          13\n",
       "6  Marketing   34          12\n",
       "7         HR   32          10\n",
       "8  Marketing   31           2\n",
       "9         IT   55          35"
      ]
     },
     "execution_count": 55,
     "metadata": {},
     "output_type": "execute_result"
    }
   ],
   "source": [
    "dataset_ot"
   ]
  },
  {
   "cell_type": "code",
   "execution_count": 56,
   "metadata": {},
   "outputs": [],
   "source": [
    "Q1 = dataset_ot.quantile(0.25)\n",
    "Q3 = dataset_ot.quantile(0.75)"
   ]
  },
  {
   "cell_type": "code",
   "execution_count": 57,
   "metadata": {},
   "outputs": [
    {
     "data": {
      "text/plain": [
       "Age           32.25\n",
       "Experience    10.25\n",
       "Name: 0.25, dtype: float64"
      ]
     },
     "execution_count": 57,
     "metadata": {},
     "output_type": "execute_result"
    }
   ],
   "source": [
    "Q1"
   ]
  },
  {
   "cell_type": "code",
   "execution_count": 58,
   "metadata": {},
   "outputs": [
    {
     "data": {
      "text/plain": [
       "Age           34.75\n",
       "Experience    12.00\n",
       "Name: 0.75, dtype: float64"
      ]
     },
     "execution_count": 58,
     "metadata": {},
     "output_type": "execute_result"
    }
   ],
   "source": [
    "Q3"
   ]
  },
  {
   "cell_type": "code",
   "execution_count": 59,
   "metadata": {},
   "outputs": [],
   "source": [
    "IQR = Q3-Q1"
   ]
  },
  {
   "cell_type": "code",
   "execution_count": 64,
   "metadata": {},
   "outputs": [
    {
     "data": {
      "text/plain": [
       "Age           2.50\n",
       "Experience    1.75\n",
       "dtype: float64"
      ]
     },
     "execution_count": 64,
     "metadata": {},
     "output_type": "execute_result"
    }
   ],
   "source": [
    "IQR"
   ]
  },
  {
   "cell_type": "code",
   "execution_count": 62,
   "metadata": {},
   "outputs": [
    {
     "data": {
      "text/html": [
       "<div>\n",
       "<style scoped>\n",
       "    .dataframe tbody tr th:only-of-type {\n",
       "        vertical-align: middle;\n",
       "    }\n",
       "\n",
       "    .dataframe tbody tr th {\n",
       "        vertical-align: top;\n",
       "    }\n",
       "\n",
       "    .dataframe thead th {\n",
       "        text-align: right;\n",
       "    }\n",
       "</style>\n",
       "<table border=\"1\" class=\"dataframe\">\n",
       "  <thead>\n",
       "    <tr style=\"text-align: right;\">\n",
       "      <th></th>\n",
       "      <th>Department</th>\n",
       "      <th>Age</th>\n",
       "      <th>Experience</th>\n",
       "    </tr>\n",
       "  </thead>\n",
       "  <tbody>\n",
       "    <tr>\n",
       "      <td>1</td>\n",
       "      <td>HR</td>\n",
       "      <td>33</td>\n",
       "      <td>12</td>\n",
       "    </tr>\n",
       "    <tr>\n",
       "      <td>2</td>\n",
       "      <td>IT</td>\n",
       "      <td>35</td>\n",
       "      <td>12</td>\n",
       "    </tr>\n",
       "    <tr>\n",
       "      <td>3</td>\n",
       "      <td>IT</td>\n",
       "      <td>36</td>\n",
       "      <td>12</td>\n",
       "    </tr>\n",
       "    <tr>\n",
       "      <td>4</td>\n",
       "      <td>HR</td>\n",
       "      <td>34</td>\n",
       "      <td>11</td>\n",
       "    </tr>\n",
       "    <tr>\n",
       "      <td>5</td>\n",
       "      <td>IT</td>\n",
       "      <td>33</td>\n",
       "      <td>13</td>\n",
       "    </tr>\n",
       "    <tr>\n",
       "      <td>6</td>\n",
       "      <td>Marketing</td>\n",
       "      <td>34</td>\n",
       "      <td>12</td>\n",
       "    </tr>\n",
       "    <tr>\n",
       "      <td>7</td>\n",
       "      <td>HR</td>\n",
       "      <td>32</td>\n",
       "      <td>10</td>\n",
       "    </tr>\n",
       "  </tbody>\n",
       "</table>\n",
       "</div>"
      ],
      "text/plain": [
       "  Department  Age  Experience\n",
       "1         HR   33          12\n",
       "2         IT   35          12\n",
       "3         IT   36          12\n",
       "4         HR   34          11\n",
       "5         IT   33          13\n",
       "6  Marketing   34          12\n",
       "7         HR   32          10"
      ]
     },
     "execution_count": 62,
     "metadata": {},
     "output_type": "execute_result"
    }
   ],
   "source": [
    "dataset_ot[~((dataset_ot<(Q1-1.5*IQR))|\n",
    "             (dataset_ot>(Q3 + 1.5*IQR))).any(axis=1)]"
   ]
  },
  {
   "cell_type": "markdown",
   "metadata": {},
   "source": [
    "# Feature Scaling"
   ]
  },
  {
   "cell_type": "code",
   "execution_count": 65,
   "metadata": {},
   "outputs": [],
   "source": [
    "os.chdir(r'D:\\D\\Trainings\\R and Python Classes\\Machine Learning A-Z\\Part 1 - Data Preprocessing\\Section 2 -------------------- Part 1 - Data Preprocessing --------------------\\Data_Preprocessing')"
   ]
  },
  {
   "cell_type": "code",
   "execution_count": 66,
   "metadata": {},
   "outputs": [],
   "source": [
    "dataset_fs = pd.read_csv('data.csv')"
   ]
  },
  {
   "cell_type": "code",
   "execution_count": 69,
   "metadata": {},
   "outputs": [],
   "source": [
    "x=dataset_fs.iloc[:].values"
   ]
  },
  {
   "cell_type": "code",
   "execution_count": 72,
   "metadata": {},
   "outputs": [
    {
     "data": {
      "text/plain": [
       "array([['France', 44, 72000, 'No'],\n",
       "       ['Spain', 27, 48000, 'Yes'],\n",
       "       ['Germany', 30, 54000, 'No'],\n",
       "       ['Spain', 45, 61000, 'No'],\n",
       "       ['Germany', 40, 45000, 'Yes'],\n",
       "       ['France', 35, 58000, 'Yes'],\n",
       "       ['Spain', 39, 52000, 'No'],\n",
       "       ['France', 48, 79000, 'Yes'],\n",
       "       ['Germany', 50, 83000, 'No'],\n",
       "       ['France', 37, 67000, 'Yes']], dtype=object)"
      ]
     },
     "execution_count": 72,
     "metadata": {},
     "output_type": "execute_result"
    }
   ],
   "source": [
    "x"
   ]
  },
  {
   "cell_type": "code",
   "execution_count": 73,
   "metadata": {},
   "outputs": [],
   "source": [
    "from sklearn.preprocessing import StandardScaler\n",
    "sc_x = StandardScaler()\n",
    "x[:,1:3] = sc_x.fit_transform(x[:,1:3])"
   ]
  },
  {
   "cell_type": "code",
   "execution_count": 74,
   "metadata": {},
   "outputs": [
    {
     "data": {
      "text/plain": [
       "array([['France', 0.6322994279878491, 0.8189757526634036, 'No'],\n",
       "       ['Spain', -1.7563872999662475, -1.1271052437644862, 'Yes'],\n",
       "       ['Germany', -1.334854347974348, -0.6405849946575137, 'No'],\n",
       "       ['Spain', 0.7728104119851489, -0.07297803736604587, 'No'],\n",
       "       ['Germany', 0.0702554919986499, -1.3703653683179724, 'Yes'],\n",
       "       ['France', -0.6322994279878491, -0.3162381619195321, 'Yes'],\n",
       "       ['Spain', -0.0702554919986499, -0.8027584110265045, 'No'],\n",
       "       ['France', 1.1943433639770482, 1.3865827099548713, 'Yes'],\n",
       "       ['Germany', 1.475365331971648, 1.710929542692853, 'No'],\n",
       "       ['France', -0.3512774599932495, 0.41354221174092654, 'Yes']],\n",
       "      dtype=object)"
      ]
     },
     "execution_count": 74,
     "metadata": {},
     "output_type": "execute_result"
    }
   ],
   "source": [
    "x"
   ]
  },
  {
   "cell_type": "code",
   "execution_count": null,
   "metadata": {},
   "outputs": [],
   "source": [
    "from sklearn.preprocessing import Normalizer\n",
    "nm_x = Normalizer()\n",
    "x[:,1:3] = nm_x.fit_transform(x[:,1:3])"
   ]
  },
  {
   "cell_type": "markdown",
   "metadata": {},
   "source": [
    "# Encoding"
   ]
  },
  {
   "cell_type": "code",
   "execution_count": 78,
   "metadata": {},
   "outputs": [
    {
     "data": {
      "text/plain": [
       "array([['France', 0.6322994279878491, 0.8189757526634036, 'No'],\n",
       "       ['Spain', -1.7563872999662475, -1.1271052437644862, 'Yes'],\n",
       "       ['Germany', -1.334854347974348, -0.6405849946575137, 'No'],\n",
       "       ['Spain', 0.7728104119851489, -0.07297803736604587, 'No'],\n",
       "       ['Germany', 0.0702554919986499, -1.3703653683179724, 'Yes'],\n",
       "       ['France', -0.6322994279878491, -0.3162381619195321, 'Yes'],\n",
       "       ['Spain', -0.0702554919986499, -0.8027584110265045, 'No'],\n",
       "       ['France', 1.1943433639770482, 1.3865827099548713, 'Yes'],\n",
       "       ['Germany', 1.475365331971648, 1.710929542692853, 'No'],\n",
       "       ['France', -0.3512774599932495, 0.41354221174092654, 'Yes']],\n",
       "      dtype=object)"
      ]
     },
     "execution_count": 78,
     "metadata": {},
     "output_type": "execute_result"
    }
   ],
   "source": [
    "x"
   ]
  },
  {
   "cell_type": "code",
   "execution_count": 81,
   "metadata": {},
   "outputs": [],
   "source": [
    "from sklearn.preprocessing import LabelEncoder, OneHotEncoder\n",
    "labelencoder_x = LabelEncoder()\n",
    "x[:,0] = labelencoder_x.fit_transform(x[:,0])\n",
    "x[:,3] = labelencoder_x.fit_transform(x[:,3])"
   ]
  },
  {
   "cell_type": "code",
   "execution_count": 83,
   "metadata": {},
   "outputs": [
    {
     "name": "stderr",
     "output_type": "stream",
     "text": [
      "C:\\Users\\Admin\\Anaconda3\\lib\\site-packages\\sklearn\\preprocessing\\_encoders.py:415: FutureWarning: The handling of integer data will change in version 0.22. Currently, the categories are determined based on the range [0, max(values)], while in the future they will be determined based on the unique values.\n",
      "If you want the future behaviour and silence this warning, you can specify \"categories='auto'\".\n",
      "In case you used a LabelEncoder before this OneHotEncoder to convert the categories to integers, then you can now use the OneHotEncoder directly.\n",
      "  warnings.warn(msg, FutureWarning)\n",
      "C:\\Users\\Admin\\Anaconda3\\lib\\site-packages\\sklearn\\preprocessing\\_encoders.py:451: DeprecationWarning: The 'categorical_features' keyword is deprecated in version 0.20 and will be removed in 0.22. You can use the ColumnTransformer instead.\n",
      "  \"use the ColumnTransformer instead.\", DeprecationWarning)\n"
     ]
    }
   ],
   "source": [
    "onehotencoder = OneHotEncoder(categorical_features=[0])\n",
    "x = onehotencoder.fit_transform(x).toarray()"
   ]
  },
  {
   "cell_type": "code",
   "execution_count": 84,
   "metadata": {},
   "outputs": [
    {
     "data": {
      "text/html": [
       "<div>\n",
       "<style scoped>\n",
       "    .dataframe tbody tr th:only-of-type {\n",
       "        vertical-align: middle;\n",
       "    }\n",
       "\n",
       "    .dataframe tbody tr th {\n",
       "        vertical-align: top;\n",
       "    }\n",
       "\n",
       "    .dataframe thead th {\n",
       "        text-align: right;\n",
       "    }\n",
       "</style>\n",
       "<table border=\"1\" class=\"dataframe\">\n",
       "  <thead>\n",
       "    <tr style=\"text-align: right;\">\n",
       "      <th></th>\n",
       "      <th>0</th>\n",
       "      <th>1</th>\n",
       "      <th>2</th>\n",
       "      <th>3</th>\n",
       "      <th>4</th>\n",
       "      <th>5</th>\n",
       "    </tr>\n",
       "  </thead>\n",
       "  <tbody>\n",
       "    <tr>\n",
       "      <td>0</td>\n",
       "      <td>1.0</td>\n",
       "      <td>0.0</td>\n",
       "      <td>0.0</td>\n",
       "      <td>0.632299</td>\n",
       "      <td>0.818976</td>\n",
       "      <td>0.0</td>\n",
       "    </tr>\n",
       "    <tr>\n",
       "      <td>1</td>\n",
       "      <td>0.0</td>\n",
       "      <td>0.0</td>\n",
       "      <td>1.0</td>\n",
       "      <td>-1.756387</td>\n",
       "      <td>-1.127105</td>\n",
       "      <td>1.0</td>\n",
       "    </tr>\n",
       "    <tr>\n",
       "      <td>2</td>\n",
       "      <td>0.0</td>\n",
       "      <td>1.0</td>\n",
       "      <td>0.0</td>\n",
       "      <td>-1.334854</td>\n",
       "      <td>-0.640585</td>\n",
       "      <td>0.0</td>\n",
       "    </tr>\n",
       "    <tr>\n",
       "      <td>3</td>\n",
       "      <td>0.0</td>\n",
       "      <td>0.0</td>\n",
       "      <td>1.0</td>\n",
       "      <td>0.772810</td>\n",
       "      <td>-0.072978</td>\n",
       "      <td>0.0</td>\n",
       "    </tr>\n",
       "    <tr>\n",
       "      <td>4</td>\n",
       "      <td>0.0</td>\n",
       "      <td>1.0</td>\n",
       "      <td>0.0</td>\n",
       "      <td>0.070255</td>\n",
       "      <td>-1.370365</td>\n",
       "      <td>1.0</td>\n",
       "    </tr>\n",
       "    <tr>\n",
       "      <td>5</td>\n",
       "      <td>1.0</td>\n",
       "      <td>0.0</td>\n",
       "      <td>0.0</td>\n",
       "      <td>-0.632299</td>\n",
       "      <td>-0.316238</td>\n",
       "      <td>1.0</td>\n",
       "    </tr>\n",
       "    <tr>\n",
       "      <td>6</td>\n",
       "      <td>0.0</td>\n",
       "      <td>0.0</td>\n",
       "      <td>1.0</td>\n",
       "      <td>-0.070255</td>\n",
       "      <td>-0.802758</td>\n",
       "      <td>0.0</td>\n",
       "    </tr>\n",
       "    <tr>\n",
       "      <td>7</td>\n",
       "      <td>1.0</td>\n",
       "      <td>0.0</td>\n",
       "      <td>0.0</td>\n",
       "      <td>1.194343</td>\n",
       "      <td>1.386583</td>\n",
       "      <td>1.0</td>\n",
       "    </tr>\n",
       "    <tr>\n",
       "      <td>8</td>\n",
       "      <td>0.0</td>\n",
       "      <td>1.0</td>\n",
       "      <td>0.0</td>\n",
       "      <td>1.475365</td>\n",
       "      <td>1.710930</td>\n",
       "      <td>0.0</td>\n",
       "    </tr>\n",
       "    <tr>\n",
       "      <td>9</td>\n",
       "      <td>1.0</td>\n",
       "      <td>0.0</td>\n",
       "      <td>0.0</td>\n",
       "      <td>-0.351277</td>\n",
       "      <td>0.413542</td>\n",
       "      <td>1.0</td>\n",
       "    </tr>\n",
       "  </tbody>\n",
       "</table>\n",
       "</div>"
      ],
      "text/plain": [
       "     0    1    2         3         4    5\n",
       "0  1.0  0.0  0.0  0.632299  0.818976  0.0\n",
       "1  0.0  0.0  1.0 -1.756387 -1.127105  1.0\n",
       "2  0.0  1.0  0.0 -1.334854 -0.640585  0.0\n",
       "3  0.0  0.0  1.0  0.772810 -0.072978  0.0\n",
       "4  0.0  1.0  0.0  0.070255 -1.370365  1.0\n",
       "5  1.0  0.0  0.0 -0.632299 -0.316238  1.0\n",
       "6  0.0  0.0  1.0 -0.070255 -0.802758  0.0\n",
       "7  1.0  0.0  0.0  1.194343  1.386583  1.0\n",
       "8  0.0  1.0  0.0  1.475365  1.710930  0.0\n",
       "9  1.0  0.0  0.0 -0.351277  0.413542  1.0"
      ]
     },
     "execution_count": 84,
     "metadata": {},
     "output_type": "execute_result"
    }
   ],
   "source": [
    "pd.DataFrame(x)"
   ]
  },
  {
   "cell_type": "markdown",
   "metadata": {},
   "source": [
    "# Simple Linear Regression"
   ]
  },
  {
   "cell_type": "code",
   "execution_count": 85,
   "metadata": {},
   "outputs": [],
   "source": [
    "os.chdir(r'D:\\D\\Edureka\\Edureka - 24 June - Python\\Class 9')"
   ]
  },
  {
   "cell_type": "code",
   "execution_count": 87,
   "metadata": {},
   "outputs": [],
   "source": [
    "dataset=pd.read_csv('Salary_Data.csv')"
   ]
  },
  {
   "cell_type": "code",
   "execution_count": 91,
   "metadata": {},
   "outputs": [],
   "source": [
    "x=dataset.iloc[:,0:1].values"
   ]
  },
  {
   "cell_type": "code",
   "execution_count": 95,
   "metadata": {},
   "outputs": [],
   "source": [
    "y = dataset.iloc[:,1].values"
   ]
  },
  {
   "cell_type": "code",
   "execution_count": 96,
   "metadata": {},
   "outputs": [
    {
     "data": {
      "text/plain": [
       "array([ 39343.,  46205.,  37731.,  43525.,  39891.,  56642.,  60150.,\n",
       "        54445.,  64445.,  57189.,  63218.,  55794.,  56957.,  57081.,\n",
       "        61111.,  67938.,  66029.,  83088.,  81363.,  93940.,  91738.,\n",
       "        98273., 101302., 113812., 109431., 105582., 116969., 112635.,\n",
       "       122391., 121872.])"
      ]
     },
     "execution_count": 96,
     "metadata": {},
     "output_type": "execute_result"
    }
   ],
   "source": [
    "y"
   ]
  },
  {
   "cell_type": "code",
   "execution_count": 117,
   "metadata": {},
   "outputs": [],
   "source": [
    "from sklearn.model_selection import train_test_split\n",
    "x_train, x_test, y_train, y_test = train_test_split(x,y,test_size=0.3,\n",
    "                                                   random_state=10)"
   ]
  },
  {
   "cell_type": "code",
   "execution_count": 118,
   "metadata": {},
   "outputs": [
    {
     "data": {
      "text/plain": [
       "LinearRegression(copy_X=True, fit_intercept=True, n_jobs=None, normalize=False)"
      ]
     },
     "execution_count": 118,
     "metadata": {},
     "output_type": "execute_result"
    }
   ],
   "source": [
    "from sklearn.linear_model import LinearRegression\n",
    "regressor = LinearRegression()\n",
    "regressor.fit(x_train, y_train)"
   ]
  },
  {
   "cell_type": "code",
   "execution_count": 119,
   "metadata": {},
   "outputs": [
    {
     "data": {
      "text/plain": [
       "array([9303.95933197])"
      ]
     },
     "execution_count": 119,
     "metadata": {},
     "output_type": "execute_result"
    }
   ],
   "source": [
    "regressor.coef_"
   ]
  },
  {
   "cell_type": "code",
   "execution_count": 120,
   "metadata": {},
   "outputs": [
    {
     "data": {
      "text/plain": [
       "27206.42890292858"
      ]
     },
     "execution_count": 120,
     "metadata": {},
     "output_type": "execute_result"
    }
   ],
   "source": [
    "regressor.intercept_"
   ]
  },
  {
   "cell_type": "code",
   "execution_count": null,
   "metadata": {},
   "outputs": [],
   "source": [
    "salary = 9303*Exp + 27206"
   ]
  },
  {
   "cell_type": "code",
   "execution_count": 123,
   "metadata": {},
   "outputs": [],
   "source": [
    "y_pred=regressor.predict(x_test)"
   ]
  },
  {
   "cell_type": "code",
   "execution_count": 122,
   "metadata": {},
   "outputs": [
    {
     "data": {
      "text/plain": [
       "array([ 91738.,  54445.,  56642.,  37731.,  43525.,  98273.,  57081.,\n",
       "       112635.,  56957.])"
      ]
     },
     "execution_count": 122,
     "metadata": {},
     "output_type": "execute_result"
    }
   ],
   "source": [
    "y_test"
   ]
  },
  {
   "cell_type": "code",
   "execution_count": 124,
   "metadata": {},
   "outputs": [
    {
     "data": {
      "text/plain": [
       "0.9647278344670828"
      ]
     },
     "execution_count": 124,
     "metadata": {},
     "output_type": "execute_result"
    }
   ],
   "source": [
    "from sklearn.metrics import r2_score\n",
    "r2_score(y_test,y_pred)"
   ]
  },
  {
   "cell_type": "code",
   "execution_count": 125,
   "metadata": {},
   "outputs": [],
   "source": [
    "x_new = pd.read_excel('new.xlsx')"
   ]
  },
  {
   "cell_type": "code",
   "execution_count": 130,
   "metadata": {},
   "outputs": [],
   "source": [
    "x_new = x_new.iloc[:,0:1].values"
   ]
  },
  {
   "cell_type": "code",
   "execution_count": 131,
   "metadata": {},
   "outputs": [
    {
     "data": {
      "text/plain": [
       "array([ 45814.34756686,  55118.30689883,  64422.2662308 ,  64422.2662308 ,\n",
       "        73726.22556276,  27206.42890293, 166765.81888243])"
      ]
     },
     "execution_count": 131,
     "metadata": {},
     "output_type": "execute_result"
    }
   ],
   "source": [
    "regressor.predict(x_new)"
   ]
  }
 ],
 "metadata": {
  "kernelspec": {
   "display_name": "Python 3",
   "language": "python",
   "name": "python3"
  },
  "language_info": {
   "codemirror_mode": {
    "name": "ipython",
    "version": 3
   },
   "file_extension": ".py",
   "mimetype": "text/x-python",
   "name": "python",
   "nbconvert_exporter": "python",
   "pygments_lexer": "ipython3",
   "version": "3.7.4"
  }
 },
 "nbformat": 4,
 "nbformat_minor": 2
}
